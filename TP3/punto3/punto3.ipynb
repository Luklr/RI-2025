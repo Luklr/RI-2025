{
 "cells": [
  {
   "cell_type": "markdown",
   "id": "8944704a",
   "metadata": {},
   "source": [
    "# Punto 3"
   ]
  },
  {
   "cell_type": "code",
   "execution_count": 2,
   "id": "705a752c",
   "metadata": {},
   "outputs": [],
   "source": [
    "import pyterrier as pt\n",
    "from matplotlib import pyplot as plt"
   ]
  },
  {
   "cell_type": "code",
   "execution_count": 3,
   "id": "77c71cd2",
   "metadata": {},
   "outputs": [
    {
     "name": "stderr",
     "output_type": "stream",
     "text": [
      "Java started (triggered by IndexFactory.of) and loaded: pyterrier.java, pyterrier.terrier.java [version=5.11 (build: craig.macdonald 2025-01-13 21:29), helper_version=0.0.8]\n"
     ]
    }
   ],
   "source": [
    "vaswani_dataset = pt.datasets.get_dataset(\"vaswani\")\n",
    "indexref = vaswani_dataset.get_index()\n",
    "index = pt.IndexFactory.of(indexref)"
   ]
  },
  {
   "cell_type": "code",
   "execution_count": 4,
   "id": "5b6f3b4f",
   "metadata": {},
   "outputs": [
    {
     "name": "stdout",
     "output_type": "stream",
     "text": [
      "15:45:44.260 [main] WARN org.terrier.applications.batchquerying.TRECQuery -- trec.encoding is not set; resorting to platform default (windows-1252). Retrieval may be platform dependent. Recommend trec.encoding=UTF-8\n"
     ]
    },
    {
     "data": {
      "text/html": [
       "<div>\n",
       "<style scoped>\n",
       "    .dataframe tbody tr th:only-of-type {\n",
       "        vertical-align: middle;\n",
       "    }\n",
       "\n",
       "    .dataframe tbody tr th {\n",
       "        vertical-align: top;\n",
       "    }\n",
       "\n",
       "    .dataframe thead th {\n",
       "        text-align: right;\n",
       "    }\n",
       "</style>\n",
       "<table border=\"1\" class=\"dataframe\">\n",
       "  <thead>\n",
       "    <tr style=\"text-align: right;\">\n",
       "      <th></th>\n",
       "      <th>qid</th>\n",
       "      <th>query</th>\n",
       "    </tr>\n",
       "  </thead>\n",
       "  <tbody>\n",
       "    <tr>\n",
       "      <th>0</th>\n",
       "      <td>1</td>\n",
       "      <td>measurement of dielectric constant of liquids ...</td>\n",
       "    </tr>\n",
       "    <tr>\n",
       "      <th>1</th>\n",
       "      <td>2</td>\n",
       "      <td>mathematical analysis and design details of wa...</td>\n",
       "    </tr>\n",
       "    <tr>\n",
       "      <th>2</th>\n",
       "      <td>3</td>\n",
       "      <td>use of digital computers in the design of band...</td>\n",
       "    </tr>\n",
       "    <tr>\n",
       "      <th>3</th>\n",
       "      <td>4</td>\n",
       "      <td>systems of data coding for information transfer</td>\n",
       "    </tr>\n",
       "    <tr>\n",
       "      <th>4</th>\n",
       "      <td>5</td>\n",
       "      <td>use of programs in engineering testing of comp...</td>\n",
       "    </tr>\n",
       "    <tr>\n",
       "      <th>5</th>\n",
       "      <td>6</td>\n",
       "      <td>number representation in binary machines</td>\n",
       "    </tr>\n",
       "    <tr>\n",
       "      <th>6</th>\n",
       "      <td>7</td>\n",
       "      <td>secondary emission of electrons by positive io...</td>\n",
       "    </tr>\n",
       "    <tr>\n",
       "      <th>7</th>\n",
       "      <td>8</td>\n",
       "      <td>measurement of plasma temperatures in arc disc...</td>\n",
       "    </tr>\n",
       "    <tr>\n",
       "      <th>8</th>\n",
       "      <td>9</td>\n",
       "      <td>characteristics of the single electrode discha...</td>\n",
       "    </tr>\n",
       "    <tr>\n",
       "      <th>9</th>\n",
       "      <td>10</td>\n",
       "      <td>methods of calculating instantaneous power dis...</td>\n",
       "    </tr>\n",
       "  </tbody>\n",
       "</table>\n",
       "</div>"
      ],
      "text/plain": [
       "  qid                                              query\n",
       "0   1  measurement of dielectric constant of liquids ...\n",
       "1   2  mathematical analysis and design details of wa...\n",
       "2   3  use of digital computers in the design of band...\n",
       "3   4    systems of data coding for information transfer\n",
       "4   5  use of programs in engineering testing of comp...\n",
       "5   6           number representation in binary machines\n",
       "6   7  secondary emission of electrons by positive io...\n",
       "7   8  measurement of plasma temperatures in arc disc...\n",
       "8   9  characteristics of the single electrode discha...\n",
       "9  10  methods of calculating instantaneous power dis..."
      ]
     },
     "execution_count": 4,
     "metadata": {},
     "output_type": "execute_result"
    }
   ],
   "source": [
    "topics = vaswani_dataset.get_topics()\n",
    "topics.head(10)"
   ]
  },
  {
   "cell_type": "code",
   "execution_count": 41,
   "id": "41732f6c",
   "metadata": {},
   "outputs": [],
   "source": [
    "retr = pt.terrier.Retriever(index, controls = {\"wmodel\": \"Hiemstra_LM\"})\n",
    "\n",
    "qrels = vaswani_dataset.get_qrels()\n",
    "\n",
    "retr.setControl(\"wmodel\", \"Hiemstra_LM\")"
   ]
  },
  {
   "cell_type": "code",
   "execution_count": 42,
   "id": "5ca827ab",
   "metadata": {},
   "outputs": [
    {
     "name": "stdout",
     "output_type": "stream",
     "text": [
      "Métricas globales:\n"
     ]
    },
    {
     "data": {
      "text/plain": [
       "{'P_10': 0.3215053763440861,\n",
       " 'map': 0.2535179497341302,\n",
       " 'ndcg_cut_10': 0.39472296386018196}"
      ]
     },
     "execution_count": 42,
     "metadata": {},
     "output_type": "execute_result"
    }
   ],
   "source": [
    "res=retr.transform(topics)\n",
    "\n",
    "metrics_global = [\"P_10\", \"map\", \"ndcg_cut_10\"]\n",
    "evaluate_global = pt.Evaluate(res, qrels, metrics=metrics_global)\n",
    "print(\"Métricas globales:\")\n",
    "evaluate_global"
   ]
  },
  {
   "cell_type": "code",
   "execution_count": 43,
   "id": "a29ced44",
   "metadata": {},
   "outputs": [
    {
     "name": "stderr",
     "output_type": "stream",
     "text": [
      "C:\\Users\\lukfi\\AppData\\Local\\Temp\\ipykernel_14896\\1683063101.py:1: DeprecationWarning: Call to deprecated function (or staticmethod) evaluate. (Use pt.Evaluate instead) -- Deprecated since version 0.9.\n",
      "  recall = pt.Utils.evaluate(res, qrels, metrics=[\"iprec_at_recall_0.00\", \"iprec_at_recall_0.10\", \"iprec_at_recall_0.20\", \"iprec_at_recall_0.30\", \"iprec_at_recall_0.40\",\n"
     ]
    },
    {
     "data": {
      "image/png": "[encoded data removed]",
      "text/plain": [
       "<Figure size 800x500 with 1 Axes>"
      ]
     },
     "metadata": {},
     "output_type": "display_data"
    }
   ],
   "source": [
    "recall = pt.Utils.evaluate(res, qrels, metrics=[\"iprec_at_recall_0.00\", \"iprec_at_recall_0.10\", \"iprec_at_recall_0.20\", \"iprec_at_recall_0.30\", \"iprec_at_recall_0.40\",\n",
    "                                       \"iprec_at_recall_0.50\", \"iprec_at_recall_0.60\", \"iprec_at_recall_0.70\", \"iprec_at_recall_0.80\", \"iprec_at_recall_0.90\",\n",
    "                                       \"iprec_at_recall_1.00\"])\n",
    "\n",
    "precision_values = [\n",
    "    recall[\"iprec_at_recall_0.00\"],\n",
    "    recall[\"iprec_at_recall_0.10\"],\n",
    "    recall[\"iprec_at_recall_0.20\"],\n",
    "    recall[\"iprec_at_recall_0.30\"],\n",
    "    recall[\"iprec_at_recall_0.40\"],\n",
    "    recall[\"iprec_at_recall_0.50\"],\n",
    "    recall[\"iprec_at_recall_0.60\"],\n",
    "    recall[\"iprec_at_recall_0.70\"],\n",
    "    recall[\"iprec_at_recall_0.80\"],\n",
    "    recall[\"iprec_at_recall_0.90\"],\n",
    "    recall[\"iprec_at_recall_1.00\"]\n",
    "]\n",
    "\n",
    "recall_points = [0.0, 0.1, 0.2, 0.3, 0.4, 0.5, 0.6, 0.7, 0.8, 0.9, 1.0]\n",
    "\n",
    "plt.figure(figsize=(8, 5))\n",
    "plt.plot(recall_points, precision_values, marker=\"o\", linestyle=\"--\", color=\"b\")\n",
    "plt.xlabel(\"Recall\")\n",
    "plt.ylabel(\"Precision\")\n",
    "plt.title(\"Curva R-Precision (11 puntos estándar)\")\n",
    "plt.grid(True)\n",
    "plt.xticks(recall_points)\n",
    "plt.show()"
   ]
  }
 ],
 "metadata": {
  "kernelspec": {
   "display_name": "Python 3",
   "language": "python",
   "name": "python3"
  },
  "language_info": {
   "codemirror_mode": {
    "name": "ipython",
    "version": 3
   },
   "file_extension": ".py",
   "mimetype": "text/x-python",
   "name": "python",
   "nbconvert_exporter": "python",
   "pygments_lexer": "ipython3",
   "version": "3.12.0"
  }
 },
 "nbformat": 4,
 "nbformat_minor": 5
}
